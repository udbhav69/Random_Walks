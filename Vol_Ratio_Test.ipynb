{
  "nbformat": 4,
  "nbformat_minor": 0,
  "metadata": {
    "colab": {
      "provenance": [],
      "toc_visible": true
    },
    "kernelspec": {
      "name": "python3",
      "display_name": "Python 3"
    },
    "language_info": {
      "name": "python"
    }
  },
  "cells": [
    {
      "cell_type": "markdown",
      "source": [
        "# Are Stock Prices Random Walks? \n",
        "A volatility ratio check"
      ],
      "metadata": {
        "id": "Io5dC9SbICKK"
      }
    },
    {
      "cell_type": "markdown",
      "source": [
        "## Importing relevant packagess"
      ],
      "metadata": {
        "id": "QxcSR3STAPeL"
      }
    },
    {
      "cell_type": "code",
      "source": [
        "# Importing Basic Libs\n",
        "import pandas as pd\n",
        "import numpy as np \n",
        "import seaborn as sns\n",
        "import matplotlib.pyplot as plt\n",
        "%matplotlib inline \n",
        "import statistics\n",
        "import math \n",
        "import scipy.stats\n",
        "\n",
        "#Yahoo Finance\n",
        "!pip install yfinance\n",
        "import yfinance as yf"
      ],
      "metadata": {
        "colab": {
          "base_uri": "https://localhost:8080/"
        },
        "id": "EEYx0PvABUeZ",
        "outputId": "cf236426-52c4-4b4a-a62f-34d67c053500"
      },
      "execution_count": 1,
      "outputs": [
        {
          "output_type": "stream",
          "name": "stdout",
          "text": [
            "Looking in indexes: https://pypi.org/simple, https://us-python.pkg.dev/colab-wheels/public/simple/\n",
            "Collecting yfinance\n",
            "  Downloading yfinance-0.2.3-py2.py3-none-any.whl (50 kB)\n",
            "\u001b[K     |████████████████████████████████| 50 kB 2.7 MB/s \n",
            "\u001b[?25hRequirement already satisfied: lxml>=4.9.1 in /usr/local/lib/python3.8/dist-packages (from yfinance) (4.9.2)\n",
            "Requirement already satisfied: pandas>=1.3.0 in /usr/local/lib/python3.8/dist-packages (from yfinance) (1.3.5)\n",
            "Requirement already satisfied: pytz>=2022.5 in /usr/local/lib/python3.8/dist-packages (from yfinance) (2022.6)\n",
            "Requirement already satisfied: multitasking>=0.0.7 in /usr/local/lib/python3.8/dist-packages (from yfinance) (0.0.11)\n",
            "Collecting requests>=2.26\n",
            "  Downloading requests-2.28.1-py3-none-any.whl (62 kB)\n",
            "\u001b[K     |████████████████████████████████| 62 kB 1.5 MB/s \n",
            "\u001b[?25hRequirement already satisfied: appdirs>=1.4.4 in /usr/local/lib/python3.8/dist-packages (from yfinance) (1.4.4)\n",
            "Collecting frozendict>=2.3.4\n",
            "  Downloading frozendict-2.3.4-cp38-cp38-manylinux_2_17_x86_64.manylinux2014_x86_64.whl (110 kB)\n",
            "\u001b[K     |████████████████████████████████| 110 kB 29.0 MB/s \n",
            "\u001b[?25hCollecting html5lib>=1.1\n",
            "  Downloading html5lib-1.1-py2.py3-none-any.whl (112 kB)\n",
            "\u001b[K     |████████████████████████████████| 112 kB 54.5 MB/s \n",
            "\u001b[?25hCollecting cryptography>=3.3.2\n",
            "  Downloading cryptography-39.0.0-cp36-abi3-manylinux_2_24_x86_64.whl (4.1 MB)\n",
            "\u001b[K     |████████████████████████████████| 4.1 MB 56.5 MB/s \n",
            "\u001b[?25hCollecting beautifulsoup4>=4.11.1\n",
            "  Downloading beautifulsoup4-4.11.1-py3-none-any.whl (128 kB)\n",
            "\u001b[K     |████████████████████████████████| 128 kB 58.9 MB/s \n",
            "\u001b[?25hRequirement already satisfied: numpy>=1.16.5 in /usr/local/lib/python3.8/dist-packages (from yfinance) (1.21.6)\n",
            "Collecting soupsieve>1.2\n",
            "  Downloading soupsieve-2.3.2.post1-py3-none-any.whl (37 kB)\n",
            "Requirement already satisfied: cffi>=1.12 in /usr/local/lib/python3.8/dist-packages (from cryptography>=3.3.2->yfinance) (1.15.1)\n",
            "Requirement already satisfied: pycparser in /usr/local/lib/python3.8/dist-packages (from cffi>=1.12->cryptography>=3.3.2->yfinance) (2.21)\n",
            "Requirement already satisfied: webencodings in /usr/local/lib/python3.8/dist-packages (from html5lib>=1.1->yfinance) (0.5.1)\n",
            "Requirement already satisfied: six>=1.9 in /usr/local/lib/python3.8/dist-packages (from html5lib>=1.1->yfinance) (1.15.0)\n",
            "Requirement already satisfied: python-dateutil>=2.7.3 in /usr/local/lib/python3.8/dist-packages (from pandas>=1.3.0->yfinance) (2.8.2)\n",
            "Requirement already satisfied: certifi>=2017.4.17 in /usr/local/lib/python3.8/dist-packages (from requests>=2.26->yfinance) (2022.12.7)\n",
            "Requirement already satisfied: idna<4,>=2.5 in /usr/local/lib/python3.8/dist-packages (from requests>=2.26->yfinance) (2.10)\n",
            "Requirement already satisfied: urllib3<1.27,>=1.21.1 in /usr/local/lib/python3.8/dist-packages (from requests>=2.26->yfinance) (1.24.3)\n",
            "Requirement already satisfied: charset-normalizer<3,>=2 in /usr/local/lib/python3.8/dist-packages (from requests>=2.26->yfinance) (2.1.1)\n",
            "Installing collected packages: soupsieve, requests, html5lib, frozendict, cryptography, beautifulsoup4, yfinance\n",
            "  Attempting uninstall: requests\n",
            "    Found existing installation: requests 2.23.0\n",
            "    Uninstalling requests-2.23.0:\n",
            "      Successfully uninstalled requests-2.23.0\n",
            "  Attempting uninstall: html5lib\n",
            "    Found existing installation: html5lib 1.0.1\n",
            "    Uninstalling html5lib-1.0.1:\n",
            "      Successfully uninstalled html5lib-1.0.1\n",
            "  Attempting uninstall: beautifulsoup4\n",
            "    Found existing installation: beautifulsoup4 4.6.3\n",
            "    Uninstalling beautifulsoup4-4.6.3:\n",
            "      Successfully uninstalled beautifulsoup4-4.6.3\n",
            "Successfully installed beautifulsoup4-4.11.1 cryptography-39.0.0 frozendict-2.3.4 html5lib-1.1 requests-2.28.1 soupsieve-2.3.2.post1 yfinance-0.2.3\n"
          ]
        }
      ]
    },
    {
      "cell_type": "markdown",
      "source": [
        "#Creating Variance Ratio Test Functions"
      ],
      "metadata": {
        "id": "Q5iAEbAUGTU2"
      }
    },
    {
      "cell_type": "markdown",
      "source": [
        "## Calculating returns based on k_day intervals"
      ],
      "metadata": {
        "id": "bWvekeDpAXKg"
      }
    },
    {
      "cell_type": "code",
      "source": [
        "#Function to return k_day_returns\n",
        "def k_day_returns(df,n): \n",
        "  string1 = '_day_returns'\n",
        "  string2 = str(n)\n",
        "  col_name = string2 + string1\n",
        "  df[col_name] = df['Close'].pct_change(periods = int(n) , fill_method='ffill')\n",
        "  return df"
      ],
      "metadata": {
        "id": "NIxryD6q2mm6"
      },
      "execution_count": 3,
      "outputs": []
    },
    {
      "cell_type": "code",
      "source": [
        "# Function for adding k_days to df\n",
        "def get_k_day_returns(df, period_array):\n",
        "\n",
        "  for period in period_array: \n",
        "    df = k_day_returns(df,period)\n",
        "\n",
        "  returns = df.copy() \n",
        "  returns.drop(returns.iloc[:, 0:7], inplace=True, axis=1)\n",
        "  return returns"
      ],
      "metadata": {
        "id": "sNCRXeXD5IeB"
      },
      "execution_count": 5,
      "outputs": []
    },
    {
      "cell_type": "markdown",
      "source": [
        "## Extracting variance ratios and conducting significance test"
      ],
      "metadata": {
        "id": "gA8Xz2G3Ail4"
      }
    },
    {
      "cell_type": "code",
      "source": [
        "#Calculating Variance Ratios \n",
        "def get_varRat(n_observations, period_array, returns):\n",
        "  #Intializing vectors\n",
        "  var_price = [] \n",
        "  var_ratio = []\n",
        "  #Calculating base variance\n",
        "  s1 = statistics.variance(returns['1_day_returns'].dropna())\n",
        "  \n",
        "  #Variance\n",
        "  for columns in returns: \n",
        "      s = statistics.variance(returns[columns].dropna())\n",
        "      var_price.append(s)\n",
        "  #Variance Ratio\n",
        "  for i in range(0,len(period_array)):\n",
        "      t = ( var_price[i]/(period_array[i]*s1) ) - 1 \n",
        "      var_ratio.append(t)\n",
        "\n",
        "  #Putting data into dataframe\n",
        "  df = pd.DataFrame({'period':period_array, 'var_price':var_price, 'var_ratio': var_ratio})   \n",
        "\n",
        "  # Calculating Variance & Standard Deviation of the Variance-Ratio\n",
        "  df['var_VarRat'] = ( (2*(df['period']-1)) * (2*df['period'] - 1) )/ (3*df['period']*n_observations)\n",
        "  # Calculating Std Deviation for the Variance-Ratio \n",
        "  df['std_VarRat']= np.sqrt( df['var_VarRat'] )\n",
        "  #Calculating z-score \n",
        "  df['z_score'] = df['var_ratio']/df['std_VarRat']\n",
        "  #Calculating p-value \n",
        "  df['p_val'] = 1 - scipy.stats.norm.sf(abs(df['z_score']))\n",
        "\n",
        "  return df"
      ],
      "metadata": {
        "id": "oN3HHjNt6WW1"
      },
      "execution_count": 10,
      "outputs": []
    },
    {
      "cell_type": "markdown",
      "source": [
        "# Conducting test on S&P 500 data"
      ],
      "metadata": {
        "id": "OT9RUyi1756I"
      }
    },
    {
      "cell_type": "code",
      "source": [
        "#Download SPX data \n",
        "index = yf.Ticker(\"^GSPC\")\n",
        "\n",
        "# get prices \n",
        "df = index.history(period=\"max\")\n",
        "\n",
        "#Viewinf the prices\n",
        "df.head()"
      ],
      "metadata": {
        "colab": {
          "base_uri": "https://localhost:8080/",
          "height": 238
        },
        "id": "vkUwOqbz6Kyp",
        "outputId": "ecb11679-69b0-4850-efea-eeb787a2ef6e"
      },
      "execution_count": 2,
      "outputs": [
        {
          "output_type": "execute_result",
          "data": {
            "text/plain": [
              "                                Open       High        Low      Close  Volume  \\\n",
              "Date                                                                            \n",
              "1927-12-30 00:00:00-05:00  17.660000  17.660000  17.660000  17.660000       0   \n",
              "1928-01-03 00:00:00-05:00  17.760000  17.760000  17.760000  17.760000       0   \n",
              "1928-01-04 00:00:00-05:00  17.719999  17.719999  17.719999  17.719999       0   \n",
              "1928-01-05 00:00:00-05:00  17.549999  17.549999  17.549999  17.549999       0   \n",
              "1928-01-06 00:00:00-05:00  17.660000  17.660000  17.660000  17.660000       0   \n",
              "\n",
              "                           Dividends  Stock Splits  \n",
              "Date                                                \n",
              "1927-12-30 00:00:00-05:00        0.0           0.0  \n",
              "1928-01-03 00:00:00-05:00        0.0           0.0  \n",
              "1928-01-04 00:00:00-05:00        0.0           0.0  \n",
              "1928-01-05 00:00:00-05:00        0.0           0.0  \n",
              "1928-01-06 00:00:00-05:00        0.0           0.0  "
            ],
            "text/html": [
              "\n",
              "  <div id=\"df-0c5bc087-8618-40e6-80e0-c3b6c4ac22e4\">\n",
              "    <div class=\"colab-df-container\">\n",
              "      <div>\n",
              "<style scoped>\n",
              "    .dataframe tbody tr th:only-of-type {\n",
              "        vertical-align: middle;\n",
              "    }\n",
              "\n",
              "    .dataframe tbody tr th {\n",
              "        vertical-align: top;\n",
              "    }\n",
              "\n",
              "    .dataframe thead th {\n",
              "        text-align: right;\n",
              "    }\n",
              "</style>\n",
              "<table border=\"1\" class=\"dataframe\">\n",
              "  <thead>\n",
              "    <tr style=\"text-align: right;\">\n",
              "      <th></th>\n",
              "      <th>Open</th>\n",
              "      <th>High</th>\n",
              "      <th>Low</th>\n",
              "      <th>Close</th>\n",
              "      <th>Volume</th>\n",
              "      <th>Dividends</th>\n",
              "      <th>Stock Splits</th>\n",
              "    </tr>\n",
              "    <tr>\n",
              "      <th>Date</th>\n",
              "      <th></th>\n",
              "      <th></th>\n",
              "      <th></th>\n",
              "      <th></th>\n",
              "      <th></th>\n",
              "      <th></th>\n",
              "      <th></th>\n",
              "    </tr>\n",
              "  </thead>\n",
              "  <tbody>\n",
              "    <tr>\n",
              "      <th>1927-12-30 00:00:00-05:00</th>\n",
              "      <td>17.660000</td>\n",
              "      <td>17.660000</td>\n",
              "      <td>17.660000</td>\n",
              "      <td>17.660000</td>\n",
              "      <td>0</td>\n",
              "      <td>0.0</td>\n",
              "      <td>0.0</td>\n",
              "    </tr>\n",
              "    <tr>\n",
              "      <th>1928-01-03 00:00:00-05:00</th>\n",
              "      <td>17.760000</td>\n",
              "      <td>17.760000</td>\n",
              "      <td>17.760000</td>\n",
              "      <td>17.760000</td>\n",
              "      <td>0</td>\n",
              "      <td>0.0</td>\n",
              "      <td>0.0</td>\n",
              "    </tr>\n",
              "    <tr>\n",
              "      <th>1928-01-04 00:00:00-05:00</th>\n",
              "      <td>17.719999</td>\n",
              "      <td>17.719999</td>\n",
              "      <td>17.719999</td>\n",
              "      <td>17.719999</td>\n",
              "      <td>0</td>\n",
              "      <td>0.0</td>\n",
              "      <td>0.0</td>\n",
              "    </tr>\n",
              "    <tr>\n",
              "      <th>1928-01-05 00:00:00-05:00</th>\n",
              "      <td>17.549999</td>\n",
              "      <td>17.549999</td>\n",
              "      <td>17.549999</td>\n",
              "      <td>17.549999</td>\n",
              "      <td>0</td>\n",
              "      <td>0.0</td>\n",
              "      <td>0.0</td>\n",
              "    </tr>\n",
              "    <tr>\n",
              "      <th>1928-01-06 00:00:00-05:00</th>\n",
              "      <td>17.660000</td>\n",
              "      <td>17.660000</td>\n",
              "      <td>17.660000</td>\n",
              "      <td>17.660000</td>\n",
              "      <td>0</td>\n",
              "      <td>0.0</td>\n",
              "      <td>0.0</td>\n",
              "    </tr>\n",
              "  </tbody>\n",
              "</table>\n",
              "</div>\n",
              "      <button class=\"colab-df-convert\" onclick=\"convertToInteractive('df-0c5bc087-8618-40e6-80e0-c3b6c4ac22e4')\"\n",
              "              title=\"Convert this dataframe to an interactive table.\"\n",
              "              style=\"display:none;\">\n",
              "        \n",
              "  <svg xmlns=\"http://www.w3.org/2000/svg\" height=\"24px\"viewBox=\"0 0 24 24\"\n",
              "       width=\"24px\">\n",
              "    <path d=\"M0 0h24v24H0V0z\" fill=\"none\"/>\n",
              "    <path d=\"M18.56 5.44l.94 2.06.94-2.06 2.06-.94-2.06-.94-.94-2.06-.94 2.06-2.06.94zm-11 1L8.5 8.5l.94-2.06 2.06-.94-2.06-.94L8.5 2.5l-.94 2.06-2.06.94zm10 10l.94 2.06.94-2.06 2.06-.94-2.06-.94-.94-2.06-.94 2.06-2.06.94z\"/><path d=\"M17.41 7.96l-1.37-1.37c-.4-.4-.92-.59-1.43-.59-.52 0-1.04.2-1.43.59L10.3 9.45l-7.72 7.72c-.78.78-.78 2.05 0 2.83L4 21.41c.39.39.9.59 1.41.59.51 0 1.02-.2 1.41-.59l7.78-7.78 2.81-2.81c.8-.78.8-2.07 0-2.86zM5.41 20L4 18.59l7.72-7.72 1.47 1.35L5.41 20z\"/>\n",
              "  </svg>\n",
              "      </button>\n",
              "      \n",
              "  <style>\n",
              "    .colab-df-container {\n",
              "      display:flex;\n",
              "      flex-wrap:wrap;\n",
              "      gap: 12px;\n",
              "    }\n",
              "\n",
              "    .colab-df-convert {\n",
              "      background-color: #E8F0FE;\n",
              "      border: none;\n",
              "      border-radius: 50%;\n",
              "      cursor: pointer;\n",
              "      display: none;\n",
              "      fill: #1967D2;\n",
              "      height: 32px;\n",
              "      padding: 0 0 0 0;\n",
              "      width: 32px;\n",
              "    }\n",
              "\n",
              "    .colab-df-convert:hover {\n",
              "      background-color: #E2EBFA;\n",
              "      box-shadow: 0px 1px 2px rgba(60, 64, 67, 0.3), 0px 1px 3px 1px rgba(60, 64, 67, 0.15);\n",
              "      fill: #174EA6;\n",
              "    }\n",
              "\n",
              "    [theme=dark] .colab-df-convert {\n",
              "      background-color: #3B4455;\n",
              "      fill: #D2E3FC;\n",
              "    }\n",
              "\n",
              "    [theme=dark] .colab-df-convert:hover {\n",
              "      background-color: #434B5C;\n",
              "      box-shadow: 0px 1px 3px 1px rgba(0, 0, 0, 0.15);\n",
              "      filter: drop-shadow(0px 1px 2px rgba(0, 0, 0, 0.3));\n",
              "      fill: #FFFFFF;\n",
              "    }\n",
              "  </style>\n",
              "\n",
              "      <script>\n",
              "        const buttonEl =\n",
              "          document.querySelector('#df-0c5bc087-8618-40e6-80e0-c3b6c4ac22e4 button.colab-df-convert');\n",
              "        buttonEl.style.display =\n",
              "          google.colab.kernel.accessAllowed ? 'block' : 'none';\n",
              "\n",
              "        async function convertToInteractive(key) {\n",
              "          const element = document.querySelector('#df-0c5bc087-8618-40e6-80e0-c3b6c4ac22e4');\n",
              "          const dataTable =\n",
              "            await google.colab.kernel.invokeFunction('convertToInteractive',\n",
              "                                                     [key], {});\n",
              "          if (!dataTable) return;\n",
              "\n",
              "          const docLinkHtml = 'Like what you see? Visit the ' +\n",
              "            '<a target=\"_blank\" href=https://colab.research.google.com/notebooks/data_table.ipynb>data table notebook</a>'\n",
              "            + ' to learn more about interactive tables.';\n",
              "          element.innerHTML = '';\n",
              "          dataTable['output_type'] = 'display_data';\n",
              "          await google.colab.output.renderOutput(dataTable, element);\n",
              "          const docLink = document.createElement('div');\n",
              "          docLink.innerHTML = docLinkHtml;\n",
              "          element.appendChild(docLink);\n",
              "        }\n",
              "      </script>\n",
              "    </div>\n",
              "  </div>\n",
              "  "
            ]
          },
          "metadata": {},
          "execution_count": 2
        }
      ]
    },
    {
      "cell_type": "code",
      "source": [
        "period_array = [1,2,4,8,6,16,32,64,128,256, 512,1024,2048]\n",
        "returns = get_k_day_returns(df,period_array)\n",
        "var_rat = get_varRat(df.shape[0], period_array, returns)\n",
        "print(var_rat)"
      ],
      "metadata": {
        "colab": {
          "base_uri": "https://localhost:8080/"
        },
        "id": "koflI_WT-TVj",
        "outputId": "f888e1f8-32e4-44d4-b8dd-ba9c5c63dc6a"
      },
      "execution_count": 13,
      "outputs": [
        {
          "output_type": "stream",
          "name": "stdout",
          "text": [
            "    period  var_price  var_ratio  var_VarRat  std_VarRat   z_score     p_val\n",
            "0        1   0.000144   0.000000    0.000000    0.000000       NaN       NaN\n",
            "1        2   0.000284  -0.014911    0.000042    0.006473 -2.303539  0.989376\n",
            "2        4   0.000553  -0.040259    0.000147    0.012110 -3.324349  0.999557\n",
            "3        8   0.001080  -0.062127    0.000367    0.019148 -3.244555  0.999412\n",
            "4        6   0.000822  -0.048197    0.000256    0.016002 -3.011897  0.998702\n",
            "5       16   0.002229  -0.032359    0.000812    0.028493 -1.135675  0.871954\n",
            "6       32   0.004706   0.021312    0.001705    0.041290  0.516146  0.697124\n",
            "7       64   0.009563   0.037737    0.003492    0.059096  0.638568  0.738448\n",
            "8      128   0.018080  -0.019025    0.007068    0.084070 -0.226301  0.589516\n",
            "9      256   0.041483   0.125369    0.014219    0.119243  1.051374  0.853457\n",
            "10     512   0.078447   0.064077    0.028522    0.168883  0.379418  0.647811\n",
            "11    1024   0.194393   0.318407    0.057127    0.239012  1.332179  0.908599\n",
            "12    2048   0.524428   0.778383    0.114338    0.338138  2.301965  0.989331\n"
          ]
        }
      ]
    },
    {
      "cell_type": "markdown",
      "source": [
        "## Visualizing Results\n",
        "\n",
        "It is evident that prices are random walks across observations periods. "
      ],
      "metadata": {
        "id": "IGa_AvrKCu11"
      }
    },
    {
      "cell_type": "code",
      "source": [
        "#Visualizing the Data\n",
        "plt.plot(var_rat['p_val'])\n",
        "plt.title('P-value as period doubles')\n",
        "plt.show()"
      ],
      "metadata": {
        "colab": {
          "base_uri": "https://localhost:8080/",
          "height": 281
        },
        "id": "e66vce9dBWaS",
        "outputId": "9b2762da-26db-4297-c217-4426eaf64859"
      },
      "execution_count": 17,
      "outputs": [
        {
          "output_type": "display_data",
          "data": {
            "text/plain": [
              "<Figure size 432x288 with 1 Axes>"
            ],
            "image/png": "[encoded data removed]"
          },
          "metadata": {
            "needs_background": "light"
          }
        }
      ]
    },
    {
      "cell_type": "code",
      "source": [
        "import datetime\n",
        "# Test # 2 \n",
        "\n",
        "#Date constrainted \n",
        "startDate = datetime.datetime(2015, 1, 1)\n",
        "endDate = startDate + datetime.timedelta(days=1258)\n",
        "\n",
        "# get prices \n",
        "df = index.history(start = startDate, end = endDate)\n",
        "\n",
        "#Viewinf the prices\n",
        "df.head()"
      ],
      "metadata": {
        "colab": {
          "base_uri": "https://localhost:8080/",
          "height": 238
        },
        "id": "S2ZABIUpDp7Y",
        "outputId": "7798f1e8-75a0-4989-9afc-9127731dc669"
      },
      "execution_count": 28,
      "outputs": [
        {
          "output_type": "execute_result",
          "data": {
            "text/plain": [
              "                                  Open         High          Low        Close  \\\n",
              "Date                                                                            \n",
              "2015-01-02 00:00:00-05:00  2058.899902  2072.360107  2046.040039  2058.199951   \n",
              "2015-01-05 00:00:00-05:00  2054.439941  2054.439941  2017.339966  2020.579956   \n",
              "2015-01-06 00:00:00-05:00  2022.150024  2030.250000  1992.439941  2002.609985   \n",
              "2015-01-07 00:00:00-05:00  2005.550049  2029.609985  2005.550049  2025.900024   \n",
              "2015-01-08 00:00:00-05:00  2030.609985  2064.080078  2030.609985  2062.139893   \n",
              "\n",
              "                               Volume  Dividends  Stock Splits  \n",
              "Date                                                            \n",
              "2015-01-02 00:00:00-05:00  2708700000        0.0           0.0  \n",
              "2015-01-05 00:00:00-05:00  3799120000        0.0           0.0  \n",
              "2015-01-06 00:00:00-05:00  4460110000        0.0           0.0  \n",
              "2015-01-07 00:00:00-05:00  3805480000        0.0           0.0  \n",
              "2015-01-08 00:00:00-05:00  3934010000        0.0           0.0  "
            ],
            "text/html": [
              "\n",
              "  <div id=\"df-de4b3ce3-1d5b-4af1-9eca-d5c148312154\">\n",
              "    <div class=\"colab-df-container\">\n",
              "      <div>\n",
              "<style scoped>\n",
              "    .dataframe tbody tr th:only-of-type {\n",
              "        vertical-align: middle;\n",
              "    }\n",
              "\n",
              "    .dataframe tbody tr th {\n",
              "        vertical-align: top;\n",
              "    }\n",
              "\n",
              "    .dataframe thead th {\n",
              "        text-align: right;\n",
              "    }\n",
              "</style>\n",
              "<table border=\"1\" class=\"dataframe\">\n",
              "  <thead>\n",
              "    <tr style=\"text-align: right;\">\n",
              "      <th></th>\n",
              "      <th>Open</th>\n",
              "      <th>High</th>\n",
              "      <th>Low</th>\n",
              "      <th>Close</th>\n",
              "      <th>Volume</th>\n",
              "      <th>Dividends</th>\n",
              "      <th>Stock Splits</th>\n",
              "    </tr>\n",
              "    <tr>\n",
              "      <th>Date</th>\n",
              "      <th></th>\n",
              "      <th></th>\n",
              "      <th></th>\n",
              "      <th></th>\n",
              "      <th></th>\n",
              "      <th></th>\n",
              "      <th></th>\n",
              "    </tr>\n",
              "  </thead>\n",
              "  <tbody>\n",
              "    <tr>\n",
              "      <th>2015-01-02 00:00:00-05:00</th>\n",
              "      <td>2058.899902</td>\n",
              "      <td>2072.360107</td>\n",
              "      <td>2046.040039</td>\n",
              "      <td>2058.199951</td>\n",
              "      <td>2708700000</td>\n",
              "      <td>0.0</td>\n",
              "      <td>0.0</td>\n",
              "    </tr>\n",
              "    <tr>\n",
              "      <th>2015-01-05 00:00:00-05:00</th>\n",
              "      <td>2054.439941</td>\n",
              "      <td>2054.439941</td>\n",
              "      <td>2017.339966</td>\n",
              "      <td>2020.579956</td>\n",
              "      <td>3799120000</td>\n",
              "      <td>0.0</td>\n",
              "      <td>0.0</td>\n",
              "    </tr>\n",
              "    <tr>\n",
              "      <th>2015-01-06 00:00:00-05:00</th>\n",
              "      <td>2022.150024</td>\n",
              "      <td>2030.250000</td>\n",
              "      <td>1992.439941</td>\n",
              "      <td>2002.609985</td>\n",
              "      <td>4460110000</td>\n",
              "      <td>0.0</td>\n",
              "      <td>0.0</td>\n",
              "    </tr>\n",
              "    <tr>\n",
              "      <th>2015-01-07 00:00:00-05:00</th>\n",
              "      <td>2005.550049</td>\n",
              "      <td>2029.609985</td>\n",
              "      <td>2005.550049</td>\n",
              "      <td>2025.900024</td>\n",
              "      <td>3805480000</td>\n",
              "      <td>0.0</td>\n",
              "      <td>0.0</td>\n",
              "    </tr>\n",
              "    <tr>\n",
              "      <th>2015-01-08 00:00:00-05:00</th>\n",
              "      <td>2030.609985</td>\n",
              "      <td>2064.080078</td>\n",
              "      <td>2030.609985</td>\n",
              "      <td>2062.139893</td>\n",
              "      <td>3934010000</td>\n",
              "      <td>0.0</td>\n",
              "      <td>0.0</td>\n",
              "    </tr>\n",
              "  </tbody>\n",
              "</table>\n",
              "</div>\n",
              "      <button class=\"colab-df-convert\" onclick=\"convertToInteractive('df-de4b3ce3-1d5b-4af1-9eca-d5c148312154')\"\n",
              "              title=\"Convert this dataframe to an interactive table.\"\n",
              "              style=\"display:none;\">\n",
              "        \n",
              "  <svg xmlns=\"http://www.w3.org/2000/svg\" height=\"24px\"viewBox=\"0 0 24 24\"\n",
              "       width=\"24px\">\n",
              "    <path d=\"M0 0h24v24H0V0z\" fill=\"none\"/>\n",
              "    <path d=\"M18.56 5.44l.94 2.06.94-2.06 2.06-.94-2.06-.94-.94-2.06-.94 2.06-2.06.94zm-11 1L8.5 8.5l.94-2.06 2.06-.94-2.06-.94L8.5 2.5l-.94 2.06-2.06.94zm10 10l.94 2.06.94-2.06 2.06-.94-2.06-.94-.94-2.06-.94 2.06-2.06.94z\"/><path d=\"M17.41 7.96l-1.37-1.37c-.4-.4-.92-.59-1.43-.59-.52 0-1.04.2-1.43.59L10.3 9.45l-7.72 7.72c-.78.78-.78 2.05 0 2.83L4 21.41c.39.39.9.59 1.41.59.51 0 1.02-.2 1.41-.59l7.78-7.78 2.81-2.81c.8-.78.8-2.07 0-2.86zM5.41 20L4 18.59l7.72-7.72 1.47 1.35L5.41 20z\"/>\n",
              "  </svg>\n",
              "      </button>\n",
              "      \n",
              "  <style>\n",
              "    .colab-df-container {\n",
              "      display:flex;\n",
              "      flex-wrap:wrap;\n",
              "      gap: 12px;\n",
              "    }\n",
              "\n",
              "    .colab-df-convert {\n",
              "      background-color: #E8F0FE;\n",
              "      border: none;\n",
              "      border-radius: 50%;\n",
              "      cursor: pointer;\n",
              "      display: none;\n",
              "      fill: #1967D2;\n",
              "      height: 32px;\n",
              "      padding: 0 0 0 0;\n",
              "      width: 32px;\n",
              "    }\n",
              "\n",
              "    .colab-df-convert:hover {\n",
              "      background-color: #E2EBFA;\n",
              "      box-shadow: 0px 1px 2px rgba(60, 64, 67, 0.3), 0px 1px 3px 1px rgba(60, 64, 67, 0.15);\n",
              "      fill: #174EA6;\n",
              "    }\n",
              "\n",
              "    [theme=dark] .colab-df-convert {\n",
              "      background-color: #3B4455;\n",
              "      fill: #D2E3FC;\n",
              "    }\n",
              "\n",
              "    [theme=dark] .colab-df-convert:hover {\n",
              "      background-color: #434B5C;\n",
              "      box-shadow: 0px 1px 3px 1px rgba(0, 0, 0, 0.15);\n",
              "      filter: drop-shadow(0px 1px 2px rgba(0, 0, 0, 0.3));\n",
              "      fill: #FFFFFF;\n",
              "    }\n",
              "  </style>\n",
              "\n",
              "      <script>\n",
              "        const buttonEl =\n",
              "          document.querySelector('#df-de4b3ce3-1d5b-4af1-9eca-d5c148312154 button.colab-df-convert');\n",
              "        buttonEl.style.display =\n",
              "          google.colab.kernel.accessAllowed ? 'block' : 'none';\n",
              "\n",
              "        async function convertToInteractive(key) {\n",
              "          const element = document.querySelector('#df-de4b3ce3-1d5b-4af1-9eca-d5c148312154');\n",
              "          const dataTable =\n",
              "            await google.colab.kernel.invokeFunction('convertToInteractive',\n",
              "                                                     [key], {});\n",
              "          if (!dataTable) return;\n",
              "\n",
              "          const docLinkHtml = 'Like what you see? Visit the ' +\n",
              "            '<a target=\"_blank\" href=https://colab.research.google.com/notebooks/data_table.ipynb>data table notebook</a>'\n",
              "            + ' to learn more about interactive tables.';\n",
              "          element.innerHTML = '';\n",
              "          dataTable['output_type'] = 'display_data';\n",
              "          await google.colab.output.renderOutput(dataTable, element);\n",
              "          const docLink = document.createElement('div');\n",
              "          docLink.innerHTML = docLinkHtml;\n",
              "          element.appendChild(docLink);\n",
              "        }\n",
              "      </script>\n",
              "    </div>\n",
              "  </div>\n",
              "  "
            ]
          },
          "metadata": {},
          "execution_count": 28
        }
      ]
    },
    {
      "cell_type": "code",
      "source": [
        "period_array = [1,2,4,8,16]\n",
        "returns = get_k_day_returns(df,period_array)\n",
        "print(returns)\n",
        "var_rat = get_varRat(df.shape[0], period_array, returns)\n",
        "print(var_rat)"
      ],
      "metadata": {
        "colab": {
          "base_uri": "https://localhost:8080/"
        },
        "id": "2ifBlvHcDqAv",
        "outputId": "59642815-2ff5-4ef6-c1dd-db8de72bacc4"
      },
      "execution_count": 29,
      "outputs": [
        {
          "output_type": "stream",
          "name": "stdout",
          "text": [
            "                           1_day_returns  2_day_returns  4_day_returns  \\\n",
            "Date                                                                     \n",
            "2015-01-02 00:00:00-05:00            NaN            NaN            NaN   \n",
            "2015-01-05 00:00:00-05:00      -0.018278            NaN            NaN   \n",
            "2015-01-06 00:00:00-05:00      -0.008893      -0.027009            NaN   \n",
            "2015-01-07 00:00:00-05:00       0.011630       0.002633            NaN   \n",
            "2015-01-08 00:00:00-05:00       0.017888       0.029726       0.001914   \n",
            "...                                  ...            ...            ...   \n",
            "2018-06-05 00:00:00-04:00       0.000703       0.005185       0.009101   \n",
            "2018-06-06 00:00:00-04:00       0.008567       0.009276       0.024796   \n",
            "2018-06-07 00:00:00-04:00      -0.000714       0.007847       0.013073   \n",
            "2018-06-08 00:00:00-04:00       0.003126       0.002409       0.011708   \n",
            "2018-06-11 00:00:00-04:00       0.001069       0.004198       0.012078   \n",
            "\n",
            "                           8_day_returns  16_day_returns  \n",
            "Date                                                      \n",
            "2015-01-02 00:00:00-05:00            NaN             NaN  \n",
            "2015-01-05 00:00:00-05:00            NaN             NaN  \n",
            "2015-01-06 00:00:00-05:00            NaN             NaN  \n",
            "2015-01-07 00:00:00-05:00            NaN             NaN  \n",
            "2015-01-08 00:00:00-05:00            NaN             NaN  \n",
            "...                                  ...             ...  \n",
            "2018-06-05 00:00:00-04:00       0.005674        0.007728  \n",
            "2018-06-06 00:00:00-04:00       0.016347        0.015465  \n",
            "2018-06-07 00:00:00-04:00       0.018021        0.021730  \n",
            "2018-06-08 00:00:00-04:00       0.033150        0.020779  \n",
            "2018-06-11 00:00:00-04:00       0.021288        0.022745  \n",
            "\n",
            "[866 rows x 5 columns]\n",
            "   period  var_price  var_ratio  var_VarRat  std_VarRat   z_score     p_val\n",
            "0       1   0.000068   0.000000    0.000000    0.000000       NaN       NaN\n",
            "1       2   0.000131  -0.027971    0.001155    0.033981 -0.823139  0.794786\n",
            "2       4   0.000239  -0.116987    0.004042    0.063573 -1.840185  0.967129\n",
            "3       8   0.000427  -0.209344    0.010104    0.100518 -2.082649  0.981358\n",
            "4      16   0.000718  -0.335624    0.022373    0.149576 -2.243836  0.987579\n"
          ]
        }
      ]
    }
  ]
}